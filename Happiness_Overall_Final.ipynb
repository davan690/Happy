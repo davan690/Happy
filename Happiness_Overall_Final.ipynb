{
 "cells": [
  {
   "cell_type": "markdown",
   "metadata": {},
   "source": [
    "# The Happiest Places on Earth 2016"
   ]
  },
  {
   "cell_type": "markdown",
   "metadata": {},
   "source": [
    "## Table of Content"
   ]
  },
  {
   "cell_type": "markdown",
   "metadata": {},
   "source": [
    "- [Introduction](#introduction)\n",
    "\n",
    "- [Happiness Trend Over Time](#happiness_trend)\n",
    "\n",
    "- [Happiness by Country (2016)](#happiness_2016)\n",
    "\n",
    "- [Happiness vs GDP per capita](#happiness_gdp)\n",
    "\n",
    "- [Why are Latin Americans Happier?](#happiness_latin)\n",
    "   - [Happiness vs Social Support](#happiness_social)\n",
    "   - [Happiness vs Religion](#happiness_religion)\n",
    "   - [Happiness vs Gene](#happiness_gene)\n",
    "- [Other Data Exploration](#happiness_other)\n",
    "- [Conclusion](#happiness_conclusion)\n",
    "- [Limitation & Future Research Direction](#happiness_limitation)\n",
    "- [Reference](#happiness_reference)"
   ]
  },
  {
   "cell_type": "markdown",
   "metadata": {},
   "source": [
    "<a id='introduction'></a>"
   ]
  },
  {
   "cell_type": "markdown",
   "metadata": {},
   "source": [
    "## Introduction"
   ]
  },
  {
   "cell_type": "markdown",
   "metadata": {},
   "source": [
    "The World Happiness Report is a landmark survey by the United Nations Sustainable Development Solutions Network about the state of global happiness. Each year they survey people from more than 150 countries and ask questions about their happiness and other aspects in their lives such as social support, freedom, etc. The data published contains country level survey data, as well as some data related to country performance such as GDP and life expectancy.\n",
    "\n",
    "The project is inspired by this report and we would like to look at what countries are happier and what makes people in a particular region happier than others through visualization of the 2016 dataset."
   ]
  },
  {
   "cell_type": "markdown",
   "metadata": {},
   "source": [
    "<a id='happiness_trend'></a>"
   ]
  },
  {
   "cell_type": "markdown",
   "metadata": {},
   "source": [
    "## Happiness Trend Over Time"
   ]
  },
  {
   "cell_type": "markdown",
   "metadata": {},
   "source": [
    "Happiness score is the national average score from the following survey question: \n",
    "\n",
    "\"Please imagine a ladder, with steps numbered from 0 at the bottom to 10 at the top. The top of the ladder represents  the best possible life for you and the bottom of the ladder represents the worst possible life for you. On which step of the ladder would you say you personally feel you stand at this time?\""
   ]
  },
  {
   "cell_type": "markdown",
   "metadata": {},
   "source": [
    "Our data is a panel data that measure happiness by country over time. We suspect that happiness will not fluctuate a lot over time and we can probably use the most recent happiness data. Let's see if our assumption holds by looking at the trend of happiness score over time."
   ]
  },
  {
   "cell_type": "code",
   "execution_count": 27,
   "metadata": {
    "collapsed": true
   },
   "outputs": [],
   "source": [
    "import seaborn as sns\n",
    "import pandas as pd\n",
    "import numpy as np\n",
    "import matplotlib.pyplot as plt\n",
    "import plotly.plotly as py\n",
    "import plotly.graph_objs as go\n",
    "%matplotlib inline"
   ]
  },
  {
   "cell_type": "code",
   "execution_count": 28,
   "metadata": {
    "collapsed": true
   },
   "outputs": [],
   "source": [
    "df_ts = pd.read_csv('Original_2017_full.csv')"
   ]
  },
  {
   "cell_type": "code",
   "execution_count": 29,
   "metadata": {
    "collapsed": true
   },
   "outputs": [],
   "source": [
    "new_names = ['country', 'year', 'happiness', 'log_gdp_per_cap', 'social_support', \n",
    "             'life_expectancy', 'freedom', 'generosity', 'corruption_perception', \n",
    "             'positive_affect', 'negative_affect', 'confidence_in_government', \n",
    "             'democratic_quality', 'delivery_quality', 'happiness_sd', \n",
    "             'happiness_sd/mean', 'gini_index', 'gini_index 2000-15', \n",
    "             'household_income_gini']"
   ]
  },
  {
   "cell_type": "code",
   "execution_count": 30,
   "metadata": {
    "collapsed": true
   },
   "outputs": [],
   "source": [
    "## rename variables for better naming convention\n",
    "df_ts.columns = new_names"
   ]
  },
  {
   "cell_type": "code",
   "execution_count": 31,
   "metadata": {},
   "outputs": [
    {
     "data": {
      "text/plain": [
       "164"
      ]
     },
     "execution_count": 31,
     "metadata": {},
     "output_type": "execute_result"
    }
   ],
   "source": [
    "len(df_ts['country'].unique())"
   ]
  },
  {
   "cell_type": "markdown",
   "metadata": {},
   "source": [
    "We have 164 countries, and it's a lot if we are to look at their trend one by one. Thus, we decided to only look at the trend by major regions."
   ]
  },
  {
   "cell_type": "code",
   "execution_count": 32,
   "metadata": {
    "collapsed": true
   },
   "outputs": [],
   "source": [
    "df_re = pd.read_csv('Original_2017_region.csv').rename(columns={'Region indicator': 'region'})"
   ]
  },
  {
   "cell_type": "code",
   "execution_count": 33,
   "metadata": {
    "collapsed": true
   },
   "outputs": [],
   "source": [
    "## merge with dataset that has region indicator\n",
    "df_ts = pd.merge(df_ts, df_re, on='country')"
   ]
  },
  {
   "cell_type": "code",
   "execution_count": 37,
   "metadata": {
    "scrolled": false
   },
   "outputs": [
    {
     "data": {
      "text/html": [
       "<iframe id=\"igraph\" scrolling=\"no\" style=\"border:none;\" seamless=\"seamless\" src=\"https://plot.ly/~wyr211/80.embed\" height=\"525px\" width=\"100%\"></iframe>"
      ],
      "text/plain": [
       "<plotly.tools.PlotlyDisplay object>"
      ]
     },
     "execution_count": 37,
     "metadata": {},
     "output_type": "execute_result"
    }
   ],
   "source": [
    "layout = go.Layout(title=\"Happiness Trend (2006 - 2017)\", font=dict(size=18), \n",
    "                   xaxis=dict(title='Year', titlefont=dict(size=18), \n",
    "                              tickfont=dict(size=14)),\n",
    "                   yaxis=dict(range=[0, 8], title='Happiness', \n",
    "                              titlefont=dict(size=18), tickfont=dict(size=14)),legend=dict(font=dict(size=10)))\n",
    "fig = {'data': [{'x': df_ts[df_ts['region'] == region].groupby('year')\n",
    "                 .agg({'happiness': 'mean'}).reset_index()['year'],\n",
    "                 'y': df_ts[df_ts['region'] == region].groupby('year')\n",
    "                 .agg({'happiness': 'mean'}).reset_index()['happiness'],\n",
    "                 'name': region, 'mode': 'lines', } for region in df_ts['region'].unique()], \n",
    "       'layout': layout}\n",
    "py.iplot(fig)"
   ]
  },
  {
   "cell_type": "markdown",
   "metadata": {},
   "source": [
    "We can see there were some fluctuations in 2005 - 2009. We have looked closely into the data and the fluctuations in early years are probably because the data collection methodology was not that well-established and so there were quite a bit of missing values. Yet, the trend remains pretty stable for the recent years and so we have decided to only focus on the 2016 data. (2016 is used instead 2017 because 2017 has more missing values.)"
   ]
  },
  {
   "cell_type": "markdown",
   "metadata": {},
   "source": [
    "<a id='happiness_2016'></a>"
   ]
  },
  {
   "cell_type": "markdown",
   "metadata": {},
   "source": [
    "## Happiness by Country (2016)"
   ]
  },
  {
   "cell_type": "code",
   "execution_count": 38,
   "metadata": {
    "collapsed": true
   },
   "outputs": [],
   "source": [
    "df = df_ts[df_ts['year'] == 2016]"
   ]
  },
  {
   "cell_type": "markdown",
   "metadata": {},
   "source": [
    "We need the country code for visualization and so we need to merge this dataset with another dataset with country code. When we merge we also include the data about the percentage of people having religion per country in our merge for later use."
   ]
  },
  {
   "cell_type": "code",
   "execution_count": 39,
   "metadata": {
    "collapsed": true
   },
   "outputs": [],
   "source": [
    "religion = pd.read_csv('relig_iso.csv')"
   ]
  },
  {
   "cell_type": "code",
   "execution_count": 40,
   "metadata": {
    "collapsed": true
   },
   "outputs": [],
   "source": [
    "religion = religion[['iso', 'country', 'percentage_non_religious']]\n",
    "religion['religion_pct'] = 100 - religion['percentage_non_religious']\n",
    "religion = religion[['iso', 'country', 'religion_pct']].rename(columns={'iso': 'country_code'})"
   ]
  },
  {
   "cell_type": "markdown",
   "metadata": {},
   "source": [
    "A small number of country names of this dataset do not match with our original happiness dataset and so we need to rename these countries."
   ]
  },
  {
   "cell_type": "code",
   "execution_count": 41,
   "metadata": {
    "collapsed": true
   },
   "outputs": [],
   "source": [
    "new_names = {'Bosnia Herzegovina': 'Bosnia and Herzegovina',\n",
    "             'Republic of Congo': 'Congo (Brazzaville)',\n",
    "             'Democratic Republic of the Congo': 'Congo (Kinshasa)',\n",
    "             'Finland ': 'Finland',\n",
    "             'Kyrgyz Republic': 'Kyrgyzstan',\n",
    "             'Macedonia (FYR)': 'Macedonia',\n",
    "             'Sudan': 'South Sudan',\n",
    "             'Taiwan': 'Taiwan Province of China',\n",
    "             'United States of America': 'United States'}"
   ]
  },
  {
   "cell_type": "code",
   "execution_count": 42,
   "metadata": {
    "collapsed": true
   },
   "outputs": [],
   "source": [
    "religion.replace({'country': new_names}, inplace=True)"
   ]
  },
  {
   "cell_type": "code",
   "execution_count": 43,
   "metadata": {
    "collapsed": true
   },
   "outputs": [],
   "source": [
    "## Merge the datasets, keep all rows in the df dataset\n",
    "df = pd.merge(df, religion, how='left', on='country')"
   ]
  },
  {
   "cell_type": "code",
   "execution_count": 44,
   "metadata": {
    "collapsed": true
   },
   "outputs": [],
   "source": [
    "df_hm = df[['country', 'country_code', 'happiness']]"
   ]
  },
  {
   "cell_type": "code",
   "execution_count": 45,
   "metadata": {
    "scrolled": false
   },
   "outputs": [
    {
     "data": {
      "text/html": [
       "<iframe id=\"igraph\" scrolling=\"no\" style=\"border:none;\" seamless=\"seamless\" src=\"https://plot.ly/~wyr211/56.embed\" height=\"525px\" width=\"100%\"></iframe>"
      ],
      "text/plain": [
       "<plotly.tools.PlotlyDisplay object>"
      ]
     },
     "execution_count": 45,
     "metadata": {},
     "output_type": "execute_result"
    }
   ],
   "source": [
    "data = [dict(type='choropleth', locations=df_hm['country_code'], z=df_hm['happiness'],\n",
    "             text=df_hm['country'],\n",
    "             colorscale=[[0, \"rgb(0, 255, 0)\"], [0.25, \"rgb(122, 255, 122)\"],\n",
    "                         [0.5, \"rgb(220, 220, 220)\"], [0.75, \"rgb(255, 128, 128)\"],\n",
    "                         [1, \"rgb(255, 0, 0)\"]],\n",
    "             autocolorscale=False, reversescale=True,\n",
    "             marker=dict(line=dict(color='rgb(180, 180, 180)', width=0.5)),\n",
    "             colorbar=dict(autotick=False, title='Happiness'),)]\n",
    "layout = dict(title='Happiness by Country (2016)', font=dict(size=18),\n",
    "              geo=dict(showframe=False, showcoastlines=False,\n",
    "                       projection=dict(type='Mercator')))\n",
    "fig = dict(data=data, layout=layout)\n",
    "py.iplot(fig, validate=False, filename='world-heatmap')"
   ]
  },
  {
   "cell_type": "markdown",
   "metadata": {},
   "source": [
    "From this heatmap, people in North America, Australia, New Zealand, Western Europe are the happiest, followed by Latin America. People in Africa have the lowest happiness score in general.\n",
    "\n",
    "Noteworthy is that the low happiness scores for Venezuela and Haiti stand out among Latin American countries. Yet, this is not surprising because Venezuela's inflation has soared to more than 4000% and Haiti is very vulnerable to natural disasters (Ref: 2,3)."
   ]
  },
  {
   "cell_type": "markdown",
   "metadata": {},
   "source": [
    "<a id='happiness_gdp'></a>"
   ]
  },
  {
   "cell_type": "markdown",
   "metadata": {},
   "source": [
    "## Can money buy happiness?"
   ]
  },
  {
   "cell_type": "markdown",
   "metadata": {},
   "source": [
    "Looks like countries that top the happiness list tend to be wealthy countries. Next, we are interested to find out if there is really a relationship between a country's happiness and its GDP per capita."
   ]
  },
  {
   "cell_type": "code",
   "execution_count": 46,
   "metadata": {
    "collapsed": true
   },
   "outputs": [],
   "source": [
    "df['gdp_per_cap'] = np.exp(df['log_gdp_per_cap'])"
   ]
  },
  {
   "cell_type": "code",
   "execution_count": 47,
   "metadata": {
    "collapsed": true
   },
   "outputs": [],
   "source": [
    "df1 = df[['region', 'happiness', 'gdp_per_cap', 'country']]\n",
    "region = df['region']"
   ]
  },
  {
   "cell_type": "code",
   "execution_count": 48,
   "metadata": {
    "collapsed": true
   },
   "outputs": [],
   "source": [
    "## Prepare the data for the right format for charting\n",
    "df2 = pd.get_dummies(df1['region'])"
   ]
  },
  {
   "cell_type": "code",
   "execution_count": 49,
   "metadata": {
    "collapsed": true
   },
   "outputs": [],
   "source": [
    "df1 = pd.concat([df1, df2], axis=1)"
   ]
  },
  {
   "cell_type": "code",
   "execution_count": 50,
   "metadata": {
    "collapsed": true
   },
   "outputs": [],
   "source": [
    "region = df2.columns"
   ]
  },
  {
   "cell_type": "code",
   "execution_count": 51,
   "metadata": {
    "collapsed": true
   },
   "outputs": [],
   "source": [
    "for a in region:\n",
    "    df1[a + '_happiness'] = df1[a] * df1['happiness']\n",
    "    df1[a + '_gdp_per_cap'] = df1[a] * df1['gdp_per_cap']\n",
    "    df1[a + '_country'] = df1[a] * df1['country']"
   ]
  },
  {
   "cell_type": "code",
   "execution_count": 52,
   "metadata": {
    "collapsed": true
   },
   "outputs": [],
   "source": [
    "df1.replace(0, np.nan, inplace=True)"
   ]
  },
  {
   "cell_type": "code",
   "execution_count": 54,
   "metadata": {},
   "outputs": [
    {
     "data": {
      "text/html": [
       "<iframe id=\"igraph\" scrolling=\"no\" style=\"border:none;\" seamless=\"seamless\" src=\"https://plot.ly/~wyr211/84.embed\" height=\"525px\" width=\"100%\"></iframe>"
      ],
      "text/plain": [
       "<plotly.tools.PlotlyDisplay object>"
      ]
     },
     "execution_count": 54,
     "metadata": {},
     "output_type": "execute_result"
    }
   ],
   "source": [
    "trace = [go.Scatter(y=df1[a + '_happiness'], x=df1[a + '_gdp_per_cap'],\n",
    "                    text=df1[a + '_country'], mode='markers', name=a) for a in region]\n",
    "data = trace\n",
    "layout = go.Layout(title='Relationship Between Happiness and GDP', font=dict(size=18),\n",
    "                   yaxis=dict(title='happiness', range=[0, 8]),\n",
    "                   xaxis=dict(title='gdp per capita', range=[0, 100000]))\n",
    "fig = go.Figure(data=data, layout=layout)\n",
    "py.iplot(fig)"
   ]
  },
  {
   "cell_type": "markdown",
   "metadata": {},
   "source": [
    "Seems like there is an overall positive relationship between happiness and GDP per capita except for Latin America - They have pretty low GDP and yet, their happiness level is comparable to some countries with much higher GDP. On the other hand, when we compare Latin America with countries having similarly low GDP, Latin America's happiness level is also the highest. "
   ]
  },
  {
   "cell_type": "markdown",
   "metadata": {},
   "source": [
    "<a id='happiness_latin'></a>"
   ]
  },
  {
   "cell_type": "markdown",
   "metadata": {},
   "source": [
    "## Why are Latin Americans happier?"
   ]
  },
  {
   "cell_type": "markdown",
   "metadata": {},
   "source": [
    "So why can people in Latin America stay happy despite their low GDP? We tried to google the possible reasons that explain why Latin Americans are happier and in general people are suggesting the following reasons:\n",
    "- They don't go solo: They love doing things in big groups and having someone to share your ups and downs with would make people happier. (Ref: 4)\n",
    "- They are faithful: They love going to church which helps them keep a positive attitude. (Ref: 5)\n",
    "- It's in their genes: The pressence of a particular allele in our FAAH gene enhances sensory pleasure and helps to reduce pain. Studies have shown that Latin Americans and Scandinavians have more of this allele. (Ref: 1,6)\n",
    "\n",
    "We will try to see if our data support these possible explanations."
   ]
  },
  {
   "cell_type": "markdown",
   "metadata": {},
   "source": [
    "<a id='happiness_social'></a>"
   ]
  },
  {
   "cell_type": "markdown",
   "metadata": {},
   "source": [
    "## 1. Latin Americans don't go solo"
   ]
  },
  {
   "cell_type": "markdown",
   "metadata": {},
   "source": [
    "To examine whether this is the reason why Latin Americans are happier, we refer to the social_support column in our data. Social_support (ranges from 0 to 1) measures how much social support people in a country can get, the higher the value the more support one can get. The definition of social_support is as follows:\n",
    "\n",
    "Social support (or having someone to count on in times of trouble) is the national average of the binary responses (either 0 or 1) to the question “If you were in trouble, do you have relatives or friends you can count on to help you\n",
    "whenever you need them, or not?”"
   ]
  },
  {
   "cell_type": "code",
   "execution_count": 55,
   "metadata": {
    "collapsed": true
   },
   "outputs": [],
   "source": [
    "df_social = df[['region', 'happiness', 'social_support', 'country']]"
   ]
  },
  {
   "cell_type": "code",
   "execution_count": 56,
   "metadata": {
    "collapsed": true
   },
   "outputs": [],
   "source": [
    "df_social_2 = pd.get_dummies(df_social['region'])"
   ]
  },
  {
   "cell_type": "code",
   "execution_count": 57,
   "metadata": {
    "collapsed": true
   },
   "outputs": [],
   "source": [
    "df_social = pd.concat([df_social, df_social_2], axis=1)"
   ]
  },
  {
   "cell_type": "code",
   "execution_count": 58,
   "metadata": {
    "collapsed": true
   },
   "outputs": [],
   "source": [
    "for a in region:\n",
    "    df_social[a + '_happiness'] = df_social[a] * df_social['happiness']\n",
    "    df_social[a + '_social_support'] = df_social[a] * df_social['social_support']\n",
    "    df_social[a + '_country'] = df_social[a] * df_social['country']"
   ]
  },
  {
   "cell_type": "code",
   "execution_count": 59,
   "metadata": {
    "collapsed": true
   },
   "outputs": [],
   "source": [
    "df_social.replace(0, np.nan, inplace=True)"
   ]
  },
  {
   "cell_type": "code",
   "execution_count": 61,
   "metadata": {},
   "outputs": [
    {
     "data": {
      "text/html": [
       "<iframe id=\"igraph\" scrolling=\"no\" style=\"border:none;\" seamless=\"seamless\" src=\"https://plot.ly/~wyr211/88.embed\" height=\"525px\" width=\"100%\"></iframe>"
      ],
      "text/plain": [
       "<plotly.tools.PlotlyDisplay object>"
      ]
     },
     "execution_count": 61,
     "metadata": {},
     "output_type": "execute_result"
    }
   ],
   "source": [
    "trace4 = [go.Scatter(y=df_social[a + '_happiness'], x=df_social[a + '_social_support'],\n",
    "                     text=df_social[a + '_country'], mode='markers',\n",
    "                     name=a) for a in region]\n",
    "data4 = trace4\n",
    "layout4 = go.Layout(title='Relationship Between Happiness and Social Support', \n",
    "                    font=dict(size=18), \n",
    "                    yaxis=dict(title='happiness', range=[0, 8]),\n",
    "                    xaxis=dict(title='social support', range=[0, 1]))\n",
    "fig4 = go.Figure(data=data4, layout=layout4)\n",
    "py.iplot(fig4)"
   ]
  },
  {
   "cell_type": "markdown",
   "metadata": {},
   "source": [
    "Looks like there is a pretty strong positive correlation between happiness and social support. Thus, support from families and friends may be one of the reasons why Latin Americans (who have a high social support score) are happy."
   ]
  },
  {
   "cell_type": "markdown",
   "metadata": {},
   "source": [
    "<a id='happiness_religion'></a>"
   ]
  },
  {
   "cell_type": "markdown",
   "metadata": {},
   "source": [
    "## 2. They are faithful"
   ]
  },
  {
   "cell_type": "markdown",
   "metadata": {},
   "source": [
    "To answer this question, we look at the relationship between a country happiness and the percentage of her people having religion. We get the religion percentage from another dataset and we did the merge in earlier step."
   ]
  },
  {
   "cell_type": "code",
   "execution_count": 62,
   "metadata": {
    "collapsed": true
   },
   "outputs": [],
   "source": [
    "df_reli = df[['region', 'happiness', 'religion_pct', 'country']]"
   ]
  },
  {
   "cell_type": "code",
   "execution_count": 63,
   "metadata": {
    "collapsed": true
   },
   "outputs": [],
   "source": [
    "df_reli_2 = pd.get_dummies(df_reli['region'])"
   ]
  },
  {
   "cell_type": "code",
   "execution_count": 64,
   "metadata": {
    "collapsed": true
   },
   "outputs": [],
   "source": [
    "df_reli = pd.concat([df_reli, df_reli_2], axis=1)"
   ]
  },
  {
   "cell_type": "code",
   "execution_count": 65,
   "metadata": {
    "collapsed": true
   },
   "outputs": [],
   "source": [
    "for a in region:\n",
    "    df_reli[a + '_happiness'] = df_reli[a] * df_reli['happiness']\n",
    "    df_reli[a + '_religion_pct'] = df_reli[a] * df_reli['religion_pct']\n",
    "    df_reli[a + '_country'] = df_reli[a] * df_reli['country']"
   ]
  },
  {
   "cell_type": "code",
   "execution_count": 66,
   "metadata": {
    "collapsed": true
   },
   "outputs": [],
   "source": [
    "df_reli.replace(0, np.nan, inplace=True)"
   ]
  },
  {
   "cell_type": "code",
   "execution_count": 67,
   "metadata": {},
   "outputs": [
    {
     "data": {
      "text/html": [
       "<iframe id=\"igraph\" scrolling=\"no\" style=\"border:none;\" seamless=\"seamless\" src=\"https://plot.ly/~wyr211/90.embed\" height=\"525px\" width=\"100%\"></iframe>"
      ],
      "text/plain": [
       "<plotly.tools.PlotlyDisplay object>"
      ]
     },
     "execution_count": 67,
     "metadata": {},
     "output_type": "execute_result"
    }
   ],
   "source": [
    "trace1 = [go.Scatter(y=df_reli[a + '_happiness'], x=df_reli[a + '_religion_pct'],\n",
    "                     text=df_reli[a + '_country'], mode='markers',\n",
    "                     name=a) for a in region]\n",
    "data1 = trace1\n",
    "layout1 = go.Layout(title='Relationship Between Happiness and Religion', \n",
    "                    font=dict(size=18),\n",
    "                    yaxis=dict(title='happiness', range=[0, 8]),\n",
    "                    xaxis=dict(title='religion percentage (%)', range=[0, 110]))\n",
    "fig1 = go.Figure(data=data1, layout=layout1)\n",
    "py.iplot(fig1)"
   ]
  },
  {
   "cell_type": "markdown",
   "metadata": {},
   "source": [
    "From this graph, there is no obvious relationship between happiness and religion - there are countries with a low percentage of people having religion and yet they are happy such as Netherlands, New Zealand, Sweden, etc.; on the other hand there are also faithful but unhappy countries like those in Sub-Saharan Africa. Thus, we can rule out this explanation based on our data."
   ]
  },
  {
   "cell_type": "markdown",
   "metadata": {},
   "source": [
    "<a id='happiness_gene'></a>"
   ]
  },
  {
   "cell_type": "markdown",
   "metadata": {},
   "source": [
    "## 3. It's in their gene"
   ]
  },
  {
   "cell_type": "markdown",
   "metadata": {},
   "source": [
    "Finally, we come down to the explanation regarding genetic variation. Since studies have shown that Latin Americans and Scandinavians have more of the \"happy allele\" that helps reduce pain, we will try to see if these people with more \"happy allele\" are really happier."
   ]
  },
  {
   "cell_type": "code",
   "execution_count": 68,
   "metadata": {
    "collapsed": true
   },
   "outputs": [],
   "source": [
    "happy_list = ['Denmark', 'Norway', 'Sweden', 'Argentina', 'Bolivia', 'Brazil',\n",
    "              'Chile', 'Colombia', 'Costa Rica', 'Dominican Republic', 'Ecuador',\n",
    "              'El Salvador', 'Guatemala', 'Haiti', 'Honduras', 'Mexico', 'Nicaragua',\n",
    "              'Panama', 'Paraguay', 'Peru', 'Uruguay', 'Venezuela']"
   ]
  },
  {
   "cell_type": "code",
   "execution_count": 69,
   "metadata": {
    "collapsed": true
   },
   "outputs": [],
   "source": [
    "df['happy_gene'] = df['country'].apply(lambda x: 1 if x in happy_list else 0)"
   ]
  },
  {
   "cell_type": "code",
   "execution_count": 70,
   "metadata": {},
   "outputs": [
    {
     "data": {
      "text/html": [
       "<iframe id=\"igraph\" scrolling=\"no\" style=\"border:none;\" seamless=\"seamless\" src=\"https://plot.ly/~wyr211/92.embed\" height=\"525px\" width=\"100%\"></iframe>"
      ],
      "text/plain": [
       "<plotly.tools.PlotlyDisplay object>"
      ]
     },
     "execution_count": 70,
     "metadata": {},
     "output_type": "execute_result"
    }
   ],
   "source": [
    "trace0 = go.Box(y=df['happiness'][df['happy_gene'] == 0].values, \n",
    "                name=\"Less allele\")\n",
    "trace1 = go.Box(y=df['happiness'][df['happy_gene'] == 1].values,\n",
    "                name=\"More allele\")\n",
    "data = [trace0, trace1]\n",
    "layout = go.Layout(title=\"Happiness between groups with more vs less happy allele\",\n",
    "                   font=dict(size=18),\n",
    "                   yaxis=dict(range=[0, 8], title='Happiness', \n",
    "                              titlefont=dict(size=18), tickfont=dict(size=14)))\n",
    "fig = go.Figure(data=data, layout=layout)\n",
    "py.iplot(fig)"
   ]
  },
  {
   "cell_type": "markdown",
   "metadata": {},
   "source": [
    "People having more of the \"happy allele\" that helps sensory pleasure and reduce pain do seem to be happier. Therefore, it is possible that part of the reasons why Latin Americans are happier is a born gift."
   ]
  },
  {
   "cell_type": "markdown",
   "metadata": {},
   "source": [
    "<a id='happiness_other'></a>"
   ]
  },
  {
   "cell_type": "markdown",
   "metadata": {},
   "source": [
    "## Other Data Exploration"
   ]
  },
  {
   "cell_type": "markdown",
   "metadata": {},
   "source": [
    "We also explore other possible reasons why Latin Americans are happier by looking at the relationship between happiness and freedom/ life expectancy."
   ]
  },
  {
   "cell_type": "markdown",
   "metadata": {},
   "source": [
    "### Relationship Between Happiness and Freedom"
   ]
  },
  {
   "cell_type": "markdown",
   "metadata": {},
   "source": [
    "Freedom (ranges from 0 to 1) measures how much freedom people in a country can enjoy, the higher the value the more freedom. The definition of freedom is as follows: \n",
    "\n",
    "Freedom is the national average of responses to the question “Are you satisfied (code as 1) or dissatisfied (code as 0) with your freedom to choose what you do with your life?”"
   ]
  },
  {
   "cell_type": "code",
   "execution_count": 71,
   "metadata": {
    "collapsed": true
   },
   "outputs": [],
   "source": [
    "df_freedom = df[['region', 'happiness', 'freedom', 'country']]"
   ]
  },
  {
   "cell_type": "code",
   "execution_count": 72,
   "metadata": {
    "collapsed": true
   },
   "outputs": [],
   "source": [
    "df_freedom_2 = pd.get_dummies(df_freedom['region'])"
   ]
  },
  {
   "cell_type": "code",
   "execution_count": 73,
   "metadata": {
    "collapsed": true
   },
   "outputs": [],
   "source": [
    "df_freedom = pd.concat([df_freedom, df_freedom_2], axis=1)"
   ]
  },
  {
   "cell_type": "code",
   "execution_count": 74,
   "metadata": {
    "collapsed": true
   },
   "outputs": [],
   "source": [
    "for a in region:\n",
    "    df_freedom[a + '_happiness'] = df_freedom[a] * df_freedom['happiness']\n",
    "    df_freedom[a + '_freedom'] = df_freedom[a] * df_freedom['freedom']\n",
    "    df_freedom[a + '_country'] = df_freedom[a] * df_freedom['country']"
   ]
  },
  {
   "cell_type": "code",
   "execution_count": 75,
   "metadata": {
    "collapsed": true
   },
   "outputs": [],
   "source": [
    "df_freedom.replace(0, np.nan, inplace=True)"
   ]
  },
  {
   "cell_type": "code",
   "execution_count": 77,
   "metadata": {
    "scrolled": true
   },
   "outputs": [
    {
     "data": {
      "text/html": [
       "<iframe id=\"igraph\" scrolling=\"no\" style=\"border:none;\" seamless=\"seamless\" src=\"https://plot.ly/~wyr211/96.embed\" height=\"525px\" width=\"100%\"></iframe>"
      ],
      "text/plain": [
       "<plotly.tools.PlotlyDisplay object>"
      ]
     },
     "execution_count": 77,
     "metadata": {},
     "output_type": "execute_result"
    }
   ],
   "source": [
    "trace5 = [go.Scatter(y=df_freedom[a + '_happiness'], x=df_freedom[a + '_freedom'],\n",
    "                     text=df_freedom[a + '_country'], mode='markers', name=a) for a in region]\n",
    "data5 = trace5\n",
    "layout5 = go.Layout(title='Relationship Between Happiness and Freedom', font=dict(size=18),\n",
    "                    yaxis=dict(title='happiness', range=[0, 8]),\n",
    "                    xaxis=dict(title='freedom level', range=[0, 1]))\n",
    "fig5 = go.Figure(data=data5, layout=layout5)\n",
    "py.iplot(fig5)"
   ]
  },
  {
   "cell_type": "markdown",
   "metadata": {},
   "source": [
    "Seems like happiness is positively correlated with freedom. This may help explain why Latin Americans are happier than other countries with similarly low GDP - Latin Americans have more freedom than these other countries."
   ]
  },
  {
   "cell_type": "markdown",
   "metadata": {},
   "source": [
    "### Relationship Between Happiness and Life Expectancy"
   ]
  },
  {
   "cell_type": "code",
   "execution_count": 78,
   "metadata": {
    "collapsed": true
   },
   "outputs": [],
   "source": [
    "df_life = df[['region', 'happiness', 'life_expectancy', 'country']]"
   ]
  },
  {
   "cell_type": "code",
   "execution_count": 79,
   "metadata": {
    "collapsed": true
   },
   "outputs": [],
   "source": [
    "df_life_2 = pd.get_dummies(df_life['region'])"
   ]
  },
  {
   "cell_type": "code",
   "execution_count": 80,
   "metadata": {
    "collapsed": true
   },
   "outputs": [],
   "source": [
    "df_life = pd.concat([df_life, df_life_2], axis=1)"
   ]
  },
  {
   "cell_type": "code",
   "execution_count": 81,
   "metadata": {
    "collapsed": true
   },
   "outputs": [],
   "source": [
    "for a in region:\n",
    "    df_life[a + '_happiness'] = df_life[a] * df_life['happiness']\n",
    "    df_life[a + '_life_expectancy'] = df_life[a] * df_life['life_expectancy']\n",
    "    df_life[a + '_country'] = df_life[a] * df_life['country']"
   ]
  },
  {
   "cell_type": "code",
   "execution_count": 82,
   "metadata": {
    "collapsed": true
   },
   "outputs": [],
   "source": [
    "df_life.replace(0, np.nan, inplace=True)"
   ]
  },
  {
   "cell_type": "code",
   "execution_count": 83,
   "metadata": {},
   "outputs": [
    {
     "data": {
      "text/html": [
       "<iframe id=\"igraph\" scrolling=\"no\" style=\"border:none;\" seamless=\"seamless\" src=\"https://plot.ly/~wyr211/98.embed\" height=\"525px\" width=\"100%\"></iframe>"
      ],
      "text/plain": [
       "<plotly.tools.PlotlyDisplay object>"
      ]
     },
     "execution_count": 83,
     "metadata": {},
     "output_type": "execute_result"
    }
   ],
   "source": [
    "trace3 = [go.Scatter(y=df_life[a + '_happiness'], x=df_life[a + '_life_expectancy'],\n",
    "                     text=df_life[a + '_country'], mode='markers', name=a) for a in region]\n",
    "data3 = trace3\n",
    "layout3 = go.Layout(title='Relationship Between Happiness and Life Expectancy',\n",
    "                    font=dict(size=18),\n",
    "                    yaxis=dict(title='happiness', range=[0, 8]),\n",
    "                    xaxis=dict(title='life expectancy (year)', range=[0, 85]))\n",
    "fig3 = go.Figure(data=data3, layout=layout3)\n",
    "py.iplot(fig3)"
   ]
  },
  {
   "cell_type": "markdown",
   "metadata": {},
   "source": [
    "Not surprisingly happiness is positively correlated with life expectancy. This may help explain why Latin Americans are happier than other countries with similar low GDP."
   ]
  },
  {
   "cell_type": "markdown",
   "metadata": {},
   "source": [
    "### Relationship Between Religion and GDP"
   ]
  },
  {
   "cell_type": "code",
   "execution_count": 84,
   "metadata": {
    "collapsed": true
   },
   "outputs": [],
   "source": [
    "df_reli_gdp = df[['region', 'gdp_per_cap', 'religion_pct', 'country']]"
   ]
  },
  {
   "cell_type": "code",
   "execution_count": 85,
   "metadata": {
    "collapsed": true
   },
   "outputs": [],
   "source": [
    "df_reli_gdp_2 = pd.get_dummies(df_reli_gdp['region'])"
   ]
  },
  {
   "cell_type": "code",
   "execution_count": 86,
   "metadata": {
    "collapsed": true
   },
   "outputs": [],
   "source": [
    "df_reli_gdp = pd.concat([df_reli_gdp, df_reli_gdp_2], axis=1)"
   ]
  },
  {
   "cell_type": "code",
   "execution_count": 87,
   "metadata": {
    "collapsed": true
   },
   "outputs": [],
   "source": [
    "for a in region:\n",
    "    df_reli_gdp[a + '_gdp_per_cap'] = df_reli_gdp[a] * df_reli_gdp['gdp_per_cap']\n",
    "    df_reli_gdp[a + '_religion_pct'] = df_reli_gdp[a] * df_reli_gdp['religion_pct']\n",
    "    df_reli_gdp[a + '_country'] = df_reli_gdp[a] * df_reli_gdp['country']"
   ]
  },
  {
   "cell_type": "code",
   "execution_count": 88,
   "metadata": {
    "collapsed": true
   },
   "outputs": [],
   "source": [
    "df_reli_gdp.replace(0, np.nan, inplace=True)"
   ]
  },
  {
   "cell_type": "code",
   "execution_count": 90,
   "metadata": {
    "scrolled": true
   },
   "outputs": [
    {
     "data": {
      "text/html": [
       "<iframe id=\"igraph\" scrolling=\"no\" style=\"border:none;\" seamless=\"seamless\" src=\"https://plot.ly/~wyr211/102.embed\" height=\"525px\" width=\"100%\"></iframe>"
      ],
      "text/plain": [
       "<plotly.tools.PlotlyDisplay object>"
      ]
     },
     "execution_count": 90,
     "metadata": {},
     "output_type": "execute_result"
    }
   ],
   "source": [
    "trace2 = [go.Scatter(y=df_reli_gdp[a + '_gdp_per_cap'], x=df_reli_gdp[a + '_religion_pct'],\n",
    "                     text=df_reli_gdp[a + '_country'], mode='markers', name=a) for a in region]\n",
    "data2 = trace2\n",
    "layout2 = go.Layout(title='Relationship Between GDP and Religion',\n",
    "                    font=dict(size=18),\n",
    "                    yaxis=dict(title='GDP per capita',range=[0, 100000]),\n",
    "                    xaxis=dict(title='religion percentage', range=[0, 110]))\n",
    "fig2 = go.Figure(data=data2, layout=layout2)\n",
    "py.iplot(fig2)"
   ]
  },
  {
   "cell_type": "markdown",
   "metadata": {},
   "source": [
    "We found it interesting that countries with lower GDP tend to be more faithful. Although religion might not be a sure path to happiness, people do seem to turn to religion for comfort when they suffer. "
   ]
  },
  {
   "cell_type": "markdown",
   "metadata": {},
   "source": [
    "<a id='conclusion'></a>"
   ]
  },
  {
   "cell_type": "markdown",
   "metadata": {},
   "source": [
    "## Conclusion"
   ]
  },
  {
   "cell_type": "markdown",
   "metadata": {},
   "source": [
    "We have looked at happiness level by country and we found that people in North America, Australia, New Zealand and Western Europe are happier, followed by Latin America. When examining the positive relationship between happiness level and gdp per capita, we found that Latin Americans are an exception - they are happy despite their low GDP. Then, we try to look for the reason behind that and our visualizations suggest Latin Americans' happiness is probably the product of their great social support from families and friends, together with their genetic structure, high freedom level and long life expectancy."
   ]
  },
  {
   "cell_type": "markdown",
   "metadata": {},
   "source": [
    "<a id='happiness_limitation'></a>"
   ]
  },
  {
   "cell_type": "markdown",
   "metadata": {},
   "source": [
    "## Limitation & Future Research Direction"
   ]
  },
  {
   "cell_type": "markdown",
   "metadata": {},
   "source": [
    "These are some limitations in our dataset/ analysis approach and some directions for future research:"
   ]
  },
  {
   "cell_type": "markdown",
   "metadata": {},
   "source": [
    "1. We try to look at the relationship between happiness and other variables such as GDP, social life, etc. one by one through visualization and the limitation is that with visualization, it is hard to control for other variables since it is hard to look at multiple variables at the same time. For example, from the scatter plot of happiness vs GDP, we see that Latin Americans are happier than people in other countries with similar GDP, but we cannot be sure if Latin America is really comparable to these other countries in all other aspects such as social support, life expectancy, etc. Thus, if we want an apple to apple comparison, we should compare Latin America with other places that have similar ratings in all other aspects or even run a regression model to control for other variables.\n",
    "\n",
    "\n",
    "2. When we look at relationship between happiness and gene, it would be helpful if we can have the actual data regarding how much \"happy allele\" different groups of people get so that we can have a better understanding of how this \"happy allele\" affects happiness."
   ]
  },
  {
   "cell_type": "markdown",
   "metadata": {},
   "source": [
    "<a id='happiness_reference'></a>"
   ]
  },
  {
   "cell_type": "markdown",
   "metadata": {},
   "source": [
    "## Reference"
   ]
  },
  {
   "cell_type": "markdown",
   "metadata": {},
   "source": [
    "(1) https://www.huffingtonpost.com/daniel-cubias/why-are-latinos-more-like_b_9012348.html\n",
    "\n",
    "(2) http://thehill.com/opinion/international/367204-venezuelas-not-so-happy-new-year\n",
    "\n",
    "(3) https://www.cnn.com/2016/10/04/world/haiti-disasters/index.html\n",
    "\n",
    "(4) https://www.independent.co.uk/life-style/health-and-families/health-news/the-secret-of-happiness-family-friends-and-your-environment-2053053.html\n",
    "\n",
    "(5) https://www.washingtonpost.com/national/religion/religion-is-a-sure-route-to-true-happiness/2014/01/23/f6522120-8452-11e3-bbe5-6a2a3141e3a9_story.html?noredirect=on&utm_term=.696011d8c9e5\n",
    "\n",
    "(6) https://www.sciencedaily.com/releases/2008/03/080304103308.htm"
   ]
  },
  {
   "cell_type": "code",
   "execution_count": null,
   "metadata": {
    "collapsed": true
   },
   "outputs": [],
   "source": []
  }
 ],
 "metadata": {
  "kernelspec": {
   "display_name": "Python 3",
   "language": "python",
   "name": "python3"
  },
  "language_info": {
   "codemirror_mode": {
    "name": "ipython",
    "version": 3
   },
   "file_extension": ".py",
   "mimetype": "text/x-python",
   "name": "python",
   "nbconvert_exporter": "python",
   "pygments_lexer": "ipython3",
   "version": "3.6.1"
  }
 },
 "nbformat": 4,
 "nbformat_minor": 1
}
